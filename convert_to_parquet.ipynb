{
 "cells": [
  {
   "cell_type": "code",
   "execution_count": 4,
   "metadata": {},
   "outputs": [],
   "source": [
    "import os\n",
    "import pandas as pd"
   ]
  },
  {
   "cell_type": "code",
   "execution_count": 5,
   "metadata": {},
   "outputs": [],
   "source": [
    "def compile_csv_to_parquet(input_dir: str, output_path: str):\n",
    "    \"\"\"\n",
    "    Função para ler todos os arquivos .csv de um diretório local e gerar um único arquivo compilado em formato Parquet utilizando pandas.\n",
    "\n",
    "    Args:\n",
    "        input_dir (str): Diretório contendo os arquivos .csv.\n",
    "        output_path (str): Caminho onde o arquivo Parquet será salvo.\n",
    "    \"\"\"\n",
    "    # Lista para armazenar os DataFrames\n",
    "    dataframes = []\n",
    "\n",
    "    # Percorre todos os arquivos do diretório\n",
    "    for filename in os.listdir(input_dir):\n",
    "        if filename.lower().endswith('.csv'):\n",
    "            file_path = os.path.join(input_dir, filename)\n",
    "            try:\n",
    "                df = pd.read_csv(file_path)\n",
    "                dataframes.append(df)\n",
    "            except Exception as e:\n",
    "                print(f\"Erro ao ler o arquivo {file_path}: {e}\")\n",
    "\n",
    "    # Se encontrou pelo menos um CSV, concatena e salva em Parquet\n",
    "    if dataframes:\n",
    "        final_df = pd.concat(dataframes, ignore_index=True)\n",
    "        try:\n",
    "            # É necessário ter 'pyarrow' ou 'fastparquet' instalado para salvar em Parquet\n",
    "            final_df.to_parquet(output_path, index=False)\n",
    "            print(f\"Arquivo compilado salvo em: {output_path}\")\n",
    "        except Exception as e:\n",
    "            print(f\"Erro ao salvar o arquivo Parquet: {e}\")\n",
    "    else:\n",
    "        print(\"Nenhum arquivo .csv encontrado no diretório fornecido.\")\n"
   ]
  },
  {
   "cell_type": "code",
   "execution_count": 10,
   "metadata": {},
   "outputs": [
    {
     "name": "stdout",
     "output_type": "stream",
     "text": [
      "Arquivo compilado salvo em: C:\\Users\\rodri\\Desktop\\datathon-fiap-final\\validation.parquet\n"
     ]
    }
   ],
   "source": [
    "input_dir = R\"C:\\Users\\rodri\\Desktop\\datathon-fiap-final\"\n",
    "output_path = R\"C:\\Users\\rodri\\Desktop\\datathon-fiap-final\\validation.parquet\"\n",
    "compile_csv_to_parquet(input_dir, output_path)\n"
   ]
  },
  {
   "cell_type": "code",
   "execution_count": null,
   "metadata": {},
   "outputs": [],
   "source": []
  }
 ],
 "metadata": {
  "kernelspec": {
   "display_name": "venv",
   "language": "python",
   "name": "python3"
  },
  "language_info": {
   "codemirror_mode": {
    "name": "ipython",
    "version": 3
   },
   "file_extension": ".py",
   "mimetype": "text/x-python",
   "name": "python",
   "nbconvert_exporter": "python",
   "pygments_lexer": "ipython3",
   "version": "3.13.1"
  }
 },
 "nbformat": 4,
 "nbformat_minor": 2
}
